{
 "cells": [
  {
   "cell_type": "markdown",
   "metadata": {},
   "source": [
    "1.  The key measure would be the amount reimbursed for toll costs in each direction.  This metric would show the increase of movement in traffic in either direction to see whether the two cities are cooperating.  \n",
    "\n"
   ]
  },
  {
   "cell_type": "markdown",
   "metadata": {},
   "source": [
    "2.  A practical experiement would be to measure the population of drivers using beforfe and after the implementation of the reimbursement and to see if there is a change in the two populations.\n",
    "\n",
    "A paired difference test to see the differences between the two populations would be ideal to see if there is a significant difference between the two populations(before and after implementation).  \n",
    "A T-test combined with an F-test is also important to measure the difference between the two populations and to see that there is a variance, e.g. that the null hypothesis can be rejected so that we can determine whether the reimbursement of the toll costs has made a significant impact in the usage of the driver partners on the bridge.\n",
    "\n",
    "F-statistic will tell you whether there is a variance change in the population, the t-statistic will show the change in the mean and the paired difference test will show that there is a difference before and after.\n"
   ]
  }
 ],
 "metadata": {
  "kernelspec": {
   "display_name": "Python 3",
   "language": "python",
   "name": "python3"
  },
  "language_info": {
   "codemirror_mode": {
    "name": "ipython",
    "version": 3
   },
   "file_extension": ".py",
   "mimetype": "text/x-python",
   "name": "python",
   "nbconvert_exporter": "python",
   "pygments_lexer": "ipython3",
   "version": "3.6.3"
  }
 },
 "nbformat": 4,
 "nbformat_minor": 2
}
